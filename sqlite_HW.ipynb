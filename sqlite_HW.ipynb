{
 "cells": [
  {
   "cell_type": "code",
   "execution_count": 1,
   "metadata": {},
   "outputs": [],
   "source": [
    "import sqlite3"
   ]
  },
  {
   "cell_type": "code",
   "execution_count": 11,
   "metadata": {},
   "outputs": [],
   "source": [
    "class Library_DB:\n",
    "    def __init__(self, Name):\n",
    "        self.Name = Name\n",
    "        conn = sqlite3.connect(self.Name)\n",
    "        c = conn.cursor()\n",
    "        c.execute(f'''CREATE TABLE IF NOT EXISTS Book\n",
    "             (id INT PRIMARY KEY NOT NULL,\n",
    "              Author TEXT,\n",
    "              Title TEXT, \n",
    "              publish_year INTEGER\n",
    "              )''')\n",
    "        c.execute(f'''CREATE TABLE IF NOT EXISTS Reader\n",
    "             (id INT PRIMARY KEY NOT NULL,\n",
    "              Name TEXT)''')\n",
    "        c.execute(f'''CREATE TABLE IF NOT EXISTS Record\n",
    "             (reader_id INT, \n",
    "              book_id INT,\n",
    "              takeing_data TEXT,\n",
    "              returning_date TEXT,\n",
    "              FOREIGN KEY (reader_id) REFERENCES Reader (id),\n",
    "              FOREIGN KEY (book_id) REFERENCES Book (id)\n",
    "              )''')\n",
    "        conn.commit()\n",
    "        conn.close()\n",
    "        \n",
    "    def add_book(self, book):\n",
    "        conn = sqlite3.connect(self.Name)\n",
    "        c = conn.cursor()\n",
    "        c.execute(f'INSERT INTO Book VALUES (?, ?, ?, ?);',\n",
    "                 book)\n",
    "        conn.commit()\n",
    "        conn.close()\n",
    "        \n",
    "    def add_reader(self, reader):\n",
    "        conn = sqlite3.connect(self.Name)\n",
    "        c = conn.cursor()\n",
    "        c.execute(f'INSERT INTO Reader VALUES (?, ?);',\n",
    "                 reader)\n",
    "        conn.commit()\n",
    "        conn.close()\n",
    "        \n",
    "    def print_books(self):\n",
    "        conn = sqlite3.connect(self.Name)\n",
    "        c = conn.cursor()\n",
    "        for row in c.execute(f\"SELECT id, Author, Title, publish_year FROM Book\"):\n",
    "            print(row)\n",
    "        conn.commit()\n",
    "        conn.close()\n",
    "        \n",
    "    def print_readers(self):\n",
    "        conn = sqlite3.connect(self.Name)\n",
    "        c = conn.cursor()\n",
    "        for row in c.execute(f\"SELECT id, Name FROM Reader\"):\n",
    "            print(row)\n",
    "        conn.commit()\n",
    "        conn.close()\n",
    "        \n",
    "    def taken_books(self):\n",
    "        conn = sqlite3.connect(self.Name)\n",
    "        c = conn.cursor()\n",
    "        for row in c.execute(f'''SELECT \n",
    "                                reader_id, book_id, \n",
    "                                takeing_data, returning_date \n",
    "                                FROM Record'''):\n",
    "            print(row)\n",
    "        conn.commit()\n",
    "        conn.close()\n",
    "        \n",
    "    def take_book(self, book, ID, date):\n",
    "        conn = sqlite3.connect(self.Name)\n",
    "        c = conn.cursor()\n",
    "        c.execute(f'SELECT * FROM Book WHERE Title =  ?', (book,))\n",
    "        book_id =c.fetchall() \n",
    "        c.execute(f'INSERT INTO Record VALUES(?, ?, ?, ?)', \n",
    "                  (ID, book_id[0][0], date, None))\n",
    "        conn.commit()\n",
    "        conn.close()\n",
    "        \n",
    "    def return_book(self, book, ID, date):\n",
    "        conn = sqlite3.connect(self.Name)\n",
    "        c = conn.cursor()\n",
    "        c.execute(f'''SELECT id, Author, Title, publish_year FROM Book, Record \n",
    "                  WHERE Book.Title = ? \n",
    "                  and Book.id = Record.book_id \n",
    "                  and Record.reader_id = ?\n",
    "                  and Record.returning_date is NULL ''', (book, ID))\n",
    "        book_info = c.fetchall()\n",
    "        c.execute(f'''UPDATE Record SET returning_date = ? \n",
    "                  WHERE reader_id = ? and book_id = ? and returning_date is NULL''', \n",
    "                  (date, ID, book_info[0][0]))\n",
    "        conn.commit()\n",
    "        conn.close()                "
   ]
  },
  {
   "cell_type": "markdown",
   "metadata": {},
   "source": [
    "### Теперь проверим, что это работает"
   ]
  },
  {
   "cell_type": "code",
   "execution_count": 12,
   "metadata": {},
   "outputs": [],
   "source": [
    "Lib = Library_DB('Biblio')"
   ]
  },
  {
   "cell_type": "code",
   "execution_count": 4,
   "metadata": {},
   "outputs": [],
   "source": [
    "book1 = ('1', 'Tolstoy Leo', 'War and Peace',  2010)\n",
    "Lib.add_book(book1)\n",
    "\n",
    "book2 = ('2', \"Mikhail Bulgakov\", \"Heart of a Dog\", 2000)\n",
    "Lib.add_book(book2)\n",
    "\n",
    "reader1 = (1, 'Alex', )\n",
    "Lib.add_reader(reader1)"
   ]
  },
  {
   "cell_type": "code",
   "execution_count": 9,
   "metadata": {},
   "outputs": [
    {
     "name": "stdout",
     "output_type": "stream",
     "text": [
      "(1, 'Tolstoy Leo', 'War and Peace', 2010)\n",
      "(2, 'Mikhail Bulgakov', 'Heart of a Dog', 2000)\n",
      "(1, 'Alex')\n"
     ]
    }
   ],
   "source": [
    "Lib.print_books()\n",
    "Lib.print_readers()"
   ]
  },
  {
   "cell_type": "code",
   "execution_count": 13,
   "metadata": {},
   "outputs": [],
   "source": [
    "Lib.take_book('War and Peace', 1, '2021-05-18')"
   ]
  },
  {
   "cell_type": "code",
   "execution_count": 14,
   "metadata": {},
   "outputs": [
    {
     "name": "stdout",
     "output_type": "stream",
     "text": [
      "(1, 1, '2021-05-18', None)\n"
     ]
    }
   ],
   "source": [
    "Lib.taken_books()"
   ]
  },
  {
   "cell_type": "code",
   "execution_count": 15,
   "metadata": {},
   "outputs": [],
   "source": [
    "Lib.return_book('War and Peace', 1, '2021-05-20')"
   ]
  },
  {
   "cell_type": "code",
   "execution_count": 16,
   "metadata": {},
   "outputs": [
    {
     "name": "stdout",
     "output_type": "stream",
     "text": [
      "(1, 1, '2021-05-18', '2021-05-20')\n"
     ]
    }
   ],
   "source": [
    "Lib.taken_books()"
   ]
  },
  {
   "cell_type": "code",
   "execution_count": 17,
   "metadata": {},
   "outputs": [],
   "source": [
    "Lib.take_book('War and Peace', 1, '2021-05-18')"
   ]
  },
  {
   "cell_type": "code",
   "execution_count": 18,
   "metadata": {},
   "outputs": [
    {
     "name": "stdout",
     "output_type": "stream",
     "text": [
      "(1, 1, '2021-05-18', '2021-05-20')\n",
      "(1, 1, '2021-05-18', None)\n"
     ]
    }
   ],
   "source": [
    "Lib.taken_books()"
   ]
  },
  {
   "cell_type": "code",
   "execution_count": 19,
   "metadata": {
    "scrolled": true
   },
   "outputs": [],
   "source": [
    "Lib.return_book('War and Peace', 1, '2021-05-20')"
   ]
  },
  {
   "cell_type": "code",
   "execution_count": 20,
   "metadata": {},
   "outputs": [
    {
     "name": "stdout",
     "output_type": "stream",
     "text": [
      "(1, 1, '2021-05-18', '2021-05-20')\n",
      "(1, 1, '2021-05-18', '2021-05-20')\n"
     ]
    }
   ],
   "source": [
    "Lib.taken_books()"
   ]
  },
  {
   "cell_type": "code",
   "execution_count": 21,
   "metadata": {},
   "outputs": [],
   "source": [
    "Lib.take_book(\"Heart of a Dog\",1, '2021-05-20')\n"
   ]
  },
  {
   "cell_type": "code",
   "execution_count": 22,
   "metadata": {},
   "outputs": [
    {
     "name": "stdout",
     "output_type": "stream",
     "text": [
      "(1, 1, '2021-05-18', '2021-05-20')\n",
      "(1, 1, '2021-05-18', '2021-05-20')\n",
      "(1, 2, '2021-05-20', None)\n"
     ]
    }
   ],
   "source": [
    "Lib.taken_books()"
   ]
  }
 ],
 "metadata": {
  "kernelspec": {
   "display_name": "Python 3",
   "language": "python",
   "name": "python3"
  },
  "language_info": {
   "codemirror_mode": {
    "name": "ipython",
    "version": 3
   },
   "file_extension": ".py",
   "mimetype": "text/x-python",
   "name": "python",
   "nbconvert_exporter": "python",
   "pygments_lexer": "ipython3",
   "version": "3.7.4"
  }
 },
 "nbformat": 4,
 "nbformat_minor": 2
}
